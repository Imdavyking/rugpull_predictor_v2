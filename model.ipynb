{
  "nbformat": 4,
  "nbformat_minor": 0,
  "metadata": {
    "colab": {
      "provenance": [],
      "gpuType": "T4"
    },
    "kernelspec": {
      "name": "python3",
      "display_name": "Python 3"
    },
    "language_info": {
      "name": "python"
    },
    "accelerator": "GPU"
  },
  "cells": [
    {
      "cell_type": "code",
      "execution_count": 2,
      "metadata": {
        "colab": {
          "base_uri": "https://localhost:8080/"
        },
        "id": "VmFHTcCp9a2-",
        "outputId": "a8bf4cd4-3352-4d15-c954-5ff72e422223"
      },
      "outputs": [
        {
          "output_type": "stream",
          "name": "stdout",
          "text": [
            "Mounted at /content/drive\n"
          ]
        }
      ],
      "source": [
        "from google.colab import drive\n",
        "drive.mount('/content/drive')"
      ]
    },
    {
      "cell_type": "code",
      "source": [
        "# Import necessary libraries\n",
        "import numpy as np\n",
        "import pandas as pd\n",
        "import xgboost as xgb\n",
        "from sklearn.model_selection import train_test_split\n",
        "from sklearn.metrics import accuracy_score, classification_report\n",
        "from sklearn.impute import SimpleImputer\n",
        "import pandas as pd\n",
        "\n",
        "# Assuming X_train and X_test are your data\n",
        "\n",
        "# Create an imputer object with a mean filling strategy\n",
        "imputer = SimpleImputer(strategy='mean')"
      ],
      "metadata": {
        "id": "-JjFrtjP_Qqz"
      },
      "execution_count": 10,
      "outputs": []
    },
    {
      "cell_type": "code",
      "source": [
        "# Load your dataset\n",
        "data_raw = pd.read_csv('drive/MyDrive/rugpull_predictor/merged_pool_data2.csv', index_col='pool_id')\n",
        "\n",
        "# This selects all columns except 'Label' as features\n",
        "X = data_raw.drop('rugpull', axis=1)\n",
        "for column in X.columns:\n",
        "  if 'tick' in column or 'logindex' in column or 'weth' in column:\n",
        "    X = X.drop(column, axis=1)\n",
        "y = data_raw['rugpull']  # Assuming 'Label' is the column with the rugpull indicator\n",
        "\n",
        "# Split the dataset into training and testing sets\n",
        "X_train_raw, X_test_raw, y_train, y_test = train_test_split(X, y, test_size=0.2, random_state=42)"
      ],
      "metadata": {
        "id": "orQvCXNj_jgh"
      },
      "execution_count": 41,
      "outputs": []
    },
    {
      "cell_type": "code",
      "source": [
        "from sklearn.preprocessing import StandardScaler, RobustScaler\n",
        "\n",
        "# Choose the scaler you want to use\n",
        "scaler = StandardScaler()\n",
        "# scaler = RobustScaler()\n",
        "\n",
        "# Fit on the training data and transform both training and test data\n",
        "X_train_imputed = imputer.fit_transform(X_train_raw)\n",
        "X_test_imputed = imputer.transform(X_test_raw)\n",
        "\n",
        "# Fit the scaler on the training data and transform both training and test data\n",
        "X_train_scaled = scaler.fit_transform(X_train_imputed)\n",
        "X_test_scaled = scaler.transform(X_test_imputed)\n",
        "\n",
        "# Convert scaled arrays back to DataFrame for compatibility with plotting functions\n",
        "X_train = pd.DataFrame(X_train_scaled, columns=X_train_raw.columns)\n",
        "X_test = pd.DataFrame(X_test_scaled, columns=X_test_raw.columns)"
      ],
      "metadata": {
        "id": "qFtsgXWsNUtu"
      },
      "execution_count": 42,
      "outputs": []
    },
    {
      "cell_type": "code",
      "source": [
        "import os\n",
        "\n",
        "# Define the path for the PDF\n",
        "pdf_path = 'model_output.pdf'\n",
        "\n",
        "# Check if the directory exists, if not, create it\n",
        "if not os.path.exists('/content/output/'):\n",
        "    os.makedirs('/content/output/')\n",
        "\n",
        "pdf_full_path = os.path.join('/content/output/', pdf_path)"
      ],
      "metadata": {
        "id": "sAty1t99JEGA"
      },
      "execution_count": 43,
      "outputs": []
    },
    {
      "cell_type": "code",
      "source": [
        "from sklearn.linear_model import LogisticRegression\n",
        "from sklearn.ensemble import RandomForestClassifier\n",
        "from sklearn.svm import SVC\n",
        "import xgboost as xgb\n",
        "import matplotlib.pyplot as plt\n",
        "from matplotlib.backends.backend_pdf import PdfPages\n",
        "\n",
        "# Define a dictionary with classifiers\n",
        "classifiers = {\n",
        "    \"Logistic Regression\": LogisticRegression(max_iter=10000),\n",
        "    \"Random Forest\": RandomForestClassifier(),\n",
        "    # \"Support Vector Machine\": SVC(kernel='linear'),\n",
        "    \"XGBoost\": xgb.XGBClassifier(objective='binary:logistic', eval_metric='logloss')\n",
        "}\n",
        "\n",
        "def plot_coefficients(classifier, feature_names, classifier_name):\n",
        "    if hasattr(classifier, 'coef_'):\n",
        "        # Get the coefficients\n",
        "        coefs = classifier.coef_.flatten()\n",
        "        # Sort the coefficients\n",
        "        sorted_coefs = np.argsort(coefs)\n",
        "\n",
        "        # Plot the coefficients\n",
        "        plt.figure(figsize=(10, 6))\n",
        "        plt.barh(np.arange(len(coefs)), coefs[sorted_coefs], align='center')\n",
        "        plt.yticks(np.arange(len(coefs)), feature_names[sorted_coefs])\n",
        "        plt.xlabel('Coefficient Value')\n",
        "        plt.title(f'Feature Importance for {classifier_name}')\n",
        "        plt.tight_layout()\n",
        "        pdf.savefig(bbox_inches='tight')  # Save the figure\n",
        "        plt.close()  # Close the figure\n",
        "\n",
        "# Function to plot feature importances\n",
        "def plot_feature_importances(classifier, X_data, classifier_name):\n",
        "    # Retrieve feature importances and make sure they're in the same order\n",
        "    importances = classifier.feature_importances_\n",
        "    indices = np.argsort(importances)[::-1]\n",
        "\n",
        "    # # Summarize feature importances\n",
        "    # for f in range(X_data.shape[1]):\n",
        "    #     print(\"%d. Feature %s (%f)\" % (f + 1, X_data.columns[indices[f]], importances[indices[f]]))\n",
        "\n",
        "    # Plot feature importances\n",
        "    plt.figure()\n",
        "    plt.title(f\"Feature Importances in {classifier_name}\")\n",
        "    plt.bar(range(X_data.shape[1]), importances[indices], align=\"center\")\n",
        "    plt.xticks(range(X_data.shape[1]), X_data.columns[indices], rotation=90)\n",
        "    plt.xlim([-1, X_data.shape[1]])\n",
        "    pdf.savefig(bbox_inches='tight')  # Save the figure\n",
        "    plt.close()  # Close the figure\n",
        "\n",
        "# Open a PDF document\n",
        "with PdfPages(pdf_full_path) as pdf:\n",
        "    # Iterate over classifiers to train and evaluate them and print feature importances\n",
        "    for name, clf in classifiers.items():\n",
        "        fig, ax = plt.subplots()  # Create a figure for the text output\n",
        "\n",
        "        print(f\"Training {name}...\")\n",
        "        clf.fit(X_train, y_train)  # Train the classifier\n",
        "\n",
        "        print(f\"Evaluating {name}...\")\n",
        "        y_pred = clf.predict(X_test)  # Make predictions\n",
        "\n",
        "        print(np.array([y_pred == False]).sum(), np.array([y_pred == True]).sum())\n",
        "        # Evaluate the model\n",
        "        accuracy = accuracy_score(y_test, y_pred)\n",
        "        report = classification_report(y_test, y_pred)\n",
        "        print(f\"Accuracy of {name}: %.2f%%\" % (accuracy * 100.0))\n",
        "        print(report)\n",
        "        print(\"-\" * 60)\n",
        "\n",
        "        # Write the text output to the PDF\n",
        "        # Create a figure for the text output\n",
        "        fig, ax = plt.subplots()\n",
        "        ax.axis('off')\n",
        "        text_output = f\"Training {name}...\\nAccuracy of {name}: {accuracy * 100.0:.2f}%\\n\\nClassification Report:\\n{report}\"\n",
        "        ax.text(0, 1, text_output, va='top', ha='left')\n",
        "        pdf.savefig(fig, bbox_inches='tight')  # Save the text output figure\n",
        "        plt.close(fig)\n",
        "\n",
        "        print(f\"Feature Importances for {name}:\")\n",
        "        if hasattr(clf, 'feature_importances_'):\n",
        "            plot_feature_importances(clf, X_train, name)\n",
        "        elif isinstance(clf, SVC) and clf.kernel == 'linear':\n",
        "            plot_coefficients(clf, X_train.columns, name)\n",
        "        elif isinstance(clf, LogisticRegression):\n",
        "            plot_coefficients(clf, X_train.columns, name)\n"
      ],
      "metadata": {
        "colab": {
          "base_uri": "https://localhost:8080/",
          "height": 1000
        },
        "id": "eD6bkuipDidQ",
        "outputId": "c2c7dced-77a2-4d3d-bf91-d93bf6918616"
      },
      "execution_count": 44,
      "outputs": [
        {
          "output_type": "stream",
          "name": "stdout",
          "text": [
            "Training Logistic Regression...\n",
            "Evaluating Logistic Regression...\n",
            "937 0\n",
            "Accuracy of Logistic Regression: 85.06%\n",
            "              precision    recall  f1-score   support\n",
            "\n",
            "       False       0.85      1.00      0.92       797\n",
            "        True       0.00      0.00      0.00       140\n",
            "\n",
            "    accuracy                           0.85       937\n",
            "   macro avg       0.43      0.50      0.46       937\n",
            "weighted avg       0.72      0.85      0.78       937\n",
            "\n",
            "------------------------------------------------------------\n"
          ]
        },
        {
          "output_type": "stream",
          "name": "stderr",
          "text": [
            "/usr/local/lib/python3.10/dist-packages/sklearn/metrics/_classification.py:1344: UndefinedMetricWarning: Precision and F-score are ill-defined and being set to 0.0 in labels with no predicted samples. Use `zero_division` parameter to control this behavior.\n",
            "  _warn_prf(average, modifier, msg_start, len(result))\n",
            "/usr/local/lib/python3.10/dist-packages/sklearn/metrics/_classification.py:1344: UndefinedMetricWarning: Precision and F-score are ill-defined and being set to 0.0 in labels with no predicted samples. Use `zero_division` parameter to control this behavior.\n",
            "  _warn_prf(average, modifier, msg_start, len(result))\n",
            "/usr/local/lib/python3.10/dist-packages/sklearn/metrics/_classification.py:1344: UndefinedMetricWarning: Precision and F-score are ill-defined and being set to 0.0 in labels with no predicted samples. Use `zero_division` parameter to control this behavior.\n",
            "  _warn_prf(average, modifier, msg_start, len(result))\n"
          ]
        },
        {
          "output_type": "stream",
          "name": "stdout",
          "text": [
            "Feature Importances for Logistic Regression:\n",
            "Training Random Forest...\n",
            "Evaluating Random Forest...\n",
            "840 97\n",
            "Accuracy of Random Forest: 91.36%\n",
            "              precision    recall  f1-score   support\n",
            "\n",
            "       False       0.93      0.98      0.95       797\n",
            "        True       0.80      0.56      0.66       140\n",
            "\n",
            "    accuracy                           0.91       937\n",
            "   macro avg       0.87      0.77      0.80       937\n",
            "weighted avg       0.91      0.91      0.91       937\n",
            "\n",
            "------------------------------------------------------------\n",
            "Feature Importances for Random Forest:\n",
            "Training XGBoost...\n",
            "Evaluating XGBoost...\n",
            "823 114\n",
            "Accuracy of XGBoost: 92.32%\n",
            "              precision    recall  f1-score   support\n",
            "\n",
            "       False       0.94      0.97      0.96       797\n",
            "        True       0.80      0.65      0.72       140\n",
            "\n",
            "    accuracy                           0.92       937\n",
            "   macro avg       0.87      0.81      0.84       937\n",
            "weighted avg       0.92      0.92      0.92       937\n",
            "\n",
            "------------------------------------------------------------\n",
            "Feature Importances for XGBoost:\n"
          ]
        },
        {
          "output_type": "display_data",
          "data": {
            "text/plain": [
              "<Figure size 640x480 with 1 Axes>"
            ],
            "image/png": "[encoded data removed]"
          },
          "metadata": {}
        },
        {
          "output_type": "display_data",
          "data": {
            "text/plain": [
              "<Figure size 640x480 with 1 Axes>"
            ],
            "image/png": "[encoded data removed]"
          },
          "metadata": {}
        },
        {
          "output_type": "display_data",
          "data": {
            "text/plain": [
              "<Figure size 640x480 with 1 Axes>"
            ],
            "image/png": "[encoded data removed]"
          },
          "metadata": {}
        }
      ]
    }
  ]
}